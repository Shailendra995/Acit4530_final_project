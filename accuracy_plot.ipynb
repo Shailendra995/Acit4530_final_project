{
 "cells": [
  {
   "cell_type": "markdown",
   "id": "90c67b54",
   "metadata": {},
   "source": [
    "# For plotting accuracies\n"
   ]
  },
  {
   "cell_type": "code",
   "execution_count": 1,
   "id": "d40bf784",
   "metadata": {},
   "outputs": [],
   "source": [
    "import pandas as pd\n",
    "\n",
    "# import warnings filter\n",
    "from warnings import simplefilter\n",
    "# ignore all future warnings\n",
    "simplefilter(action='ignore', category = FutureWarning)\n",
    "# import warnings filter\n",
    "from warnings import simplefilter\n",
    "# ignore all future warnings\n",
    "simplefilter(action='ignore', category = FutureWarning)\n",
    "\n",
    "import pandas as pd\n",
    "import matplotlib.pyplot as plt\n",
    "import seaborn as sns\n",
    "import numpy as np"
   ]
  },
  {
   "cell_type": "code",
   "execution_count": 2,
   "id": "56c4f8ea",
   "metadata": {},
   "outputs": [
    {
     "data": {
      "text/html": [
       "<div>\n",
       "<style scoped>\n",
       "    .dataframe tbody tr th:only-of-type {\n",
       "        vertical-align: middle;\n",
       "    }\n",
       "\n",
       "    .dataframe tbody tr th {\n",
       "        vertical-align: top;\n",
       "    }\n",
       "\n",
       "    .dataframe thead th {\n",
       "        text-align: right;\n",
       "    }\n",
       "</style>\n",
       "<table border=\"1\" class=\"dataframe\">\n",
       "  <thead>\n",
       "    <tr style=\"text-align: right;\">\n",
       "      <th></th>\n",
       "      <th>0</th>\n",
       "      <th>1</th>\n",
       "      <th>2</th>\n",
       "      <th>3</th>\n",
       "    </tr>\n",
       "  </thead>\n",
       "  <tbody>\n",
       "    <tr>\n",
       "      <th>0</th>\n",
       "      <td>Activities</td>\n",
       "      <td>Multi-layer LSTM</td>\n",
       "      <td>1D-CNN</td>\n",
       "      <td>1D-CNN+LSTM</td>\n",
       "    </tr>\n",
       "    <tr>\n",
       "      <th>1</th>\n",
       "      <td>Laying</td>\n",
       "      <td>1</td>\n",
       "      <td>0.95</td>\n",
       "      <td>0.95</td>\n",
       "    </tr>\n",
       "    <tr>\n",
       "      <th>2</th>\n",
       "      <td>Sitting</td>\n",
       "      <td>0.83</td>\n",
       "      <td>0.79</td>\n",
       "      <td>0.79</td>\n",
       "    </tr>\n",
       "    <tr>\n",
       "      <th>3</th>\n",
       "      <td>Standing</td>\n",
       "      <td>0.8</td>\n",
       "      <td>0.9</td>\n",
       "      <td>0.9</td>\n",
       "    </tr>\n",
       "    <tr>\n",
       "      <th>4</th>\n",
       "      <td>Walking</td>\n",
       "      <td>0.94</td>\n",
       "      <td>0.96</td>\n",
       "      <td>0.99</td>\n",
       "    </tr>\n",
       "  </tbody>\n",
       "</table>\n",
       "</div>"
      ],
      "text/plain": [
       "            0                 1       2            3\n",
       "0  Activities  Multi-layer LSTM  1D-CNN  1D-CNN+LSTM\n",
       "1      Laying                 1    0.95         0.95\n",
       "2     Sitting              0.83    0.79         0.79\n",
       "3    Standing               0.8     0.9          0.9\n",
       "4     Walking              0.94    0.96         0.99"
      ]
     },
     "execution_count": 2,
     "metadata": {},
     "output_type": "execute_result"
    }
   ],
   "source": [
    "df = pd.read_csv('Accuracy_each_activities.csv', header = None)\n",
    "df.head()\n"
   ]
  },
  {
   "cell_type": "code",
   "execution_count": 3,
   "id": "cc801476",
   "metadata": {},
   "outputs": [],
   "source": [
    "df = pd.read_csv('Accuracy_each_activities.csv')"
   ]
  },
  {
   "cell_type": "code",
   "execution_count": 4,
   "id": "35c8c85c",
   "metadata": {},
   "outputs": [
    {
     "data": {
      "text/html": [
       "<div>\n",
       "<style scoped>\n",
       "    .dataframe tbody tr th:only-of-type {\n",
       "        vertical-align: middle;\n",
       "    }\n",
       "\n",
       "    .dataframe tbody tr th {\n",
       "        vertical-align: top;\n",
       "    }\n",
       "\n",
       "    .dataframe thead th {\n",
       "        text-align: right;\n",
       "    }\n",
       "</style>\n",
       "<table border=\"1\" class=\"dataframe\">\n",
       "  <thead>\n",
       "    <tr style=\"text-align: right;\">\n",
       "      <th></th>\n",
       "      <th>Activities</th>\n",
       "      <th>Multi-layer LSTM</th>\n",
       "      <th>1D-CNN</th>\n",
       "      <th>1D-CNN+LSTM</th>\n",
       "    </tr>\n",
       "  </thead>\n",
       "  <tbody>\n",
       "    <tr>\n",
       "      <th>0</th>\n",
       "      <td>Laying</td>\n",
       "      <td>1.00</td>\n",
       "      <td>0.95</td>\n",
       "      <td>0.95</td>\n",
       "    </tr>\n",
       "    <tr>\n",
       "      <th>1</th>\n",
       "      <td>Sitting</td>\n",
       "      <td>0.83</td>\n",
       "      <td>0.79</td>\n",
       "      <td>0.79</td>\n",
       "    </tr>\n",
       "    <tr>\n",
       "      <th>2</th>\n",
       "      <td>Standing</td>\n",
       "      <td>0.80</td>\n",
       "      <td>0.90</td>\n",
       "      <td>0.90</td>\n",
       "    </tr>\n",
       "    <tr>\n",
       "      <th>3</th>\n",
       "      <td>Walking</td>\n",
       "      <td>0.94</td>\n",
       "      <td>0.96</td>\n",
       "      <td>0.99</td>\n",
       "    </tr>\n",
       "    <tr>\n",
       "      <th>4</th>\n",
       "      <td>Walking Down</td>\n",
       "      <td>0.98</td>\n",
       "      <td>1.00</td>\n",
       "      <td>0.98</td>\n",
       "    </tr>\n",
       "    <tr>\n",
       "      <th>5</th>\n",
       "      <td>Walking Up</td>\n",
       "      <td>0.98</td>\n",
       "      <td>0.92</td>\n",
       "      <td>0.93</td>\n",
       "    </tr>\n",
       "  </tbody>\n",
       "</table>\n",
       "</div>"
      ],
      "text/plain": [
       "     Activities  Multi-layer LSTM  1D-CNN  1D-CNN+LSTM\n",
       "0        Laying              1.00    0.95         0.95\n",
       "1       Sitting              0.83    0.79         0.79\n",
       "2      Standing              0.80    0.90         0.90\n",
       "3       Walking              0.94    0.96         0.99\n",
       "4  Walking Down              0.98    1.00         0.98\n",
       "5    Walking Up              0.98    0.92         0.93"
      ]
     },
     "execution_count": 4,
     "metadata": {},
     "output_type": "execute_result"
    }
   ],
   "source": [
    "X = df.iloc[:, :-1].values # We take all the feature columns (we exclude the last one)\n",
    "#Y = df.iloc[:, 5].values # We take the dependent variables\n",
    "df"
   ]
  },
  {
   "cell_type": "code",
   "execution_count": 5,
   "id": "49db79f1",
   "metadata": {},
   "outputs": [
    {
     "data": {
      "image/png": "[encoded data removed]",
      "text/plain": [
       "<Figure size 432x288 with 1 Axes>"
      ]
     },
     "metadata": {
      "needs_background": "light"
     },
     "output_type": "display_data"
    }
   ],
   "source": [
    "X = df['Activities']\n",
    "A = df['Multi-layer LSTM']\n",
    "B = df['1D-CNN']\n",
    "C = df['1D-CNN+LSTM']\n",
    "\n",
    "#bin_vector = np.loadtext('sacc_or_fixation.txt')\n",
    "plt.plot(X[0:1000],A[0:500], c='b', label= 'Multi-layer LSTM')\n",
    "plt.plot(X[0:1000],B[0:500], c='g', label ='1D-CNN')\n",
    "plt.plot(X[0:1000],C[0:500], c='r', label ='1D-CNN+LSTM')\n",
    "\n",
    "plt.legend(loc=\"lower right\")\n",
    "plt.title('Accuracies of each activities for different models')\n",
    "plt.xlabel('Activities',fontsize=15)\n",
    "plt.ylabel('Accuracy ',fontsize=15)\n",
    "plt. grid(True)\n",
    "plt.savefig('results_images/comparision of accuries.pdf')\n",
    "plt.show()"
   ]
  },
  {
   "cell_type": "code",
   "execution_count": 6,
   "id": "dd3e94ae",
   "metadata": {},
   "outputs": [],
   "source": [
    "df = pd.read_csv('/media/shailendra/New Volume1/Master_Data_Science_Oslo_met/Second_Sem/ACIT4530_Data_Mining/ACIT_4530_Final_Project/Data_mining_project/Accuracy_prec.csv')"
   ]
  },
  {
   "cell_type": "code",
   "execution_count": 7,
   "id": "160f5b3a",
   "metadata": {},
   "outputs": [
    {
     "data": {
      "text/html": [
       "<div>\n",
       "<style scoped>\n",
       "    .dataframe tbody tr th:only-of-type {\n",
       "        vertical-align: middle;\n",
       "    }\n",
       "\n",
       "    .dataframe tbody tr th {\n",
       "        vertical-align: top;\n",
       "    }\n",
       "\n",
       "    .dataframe thead th {\n",
       "        text-align: right;\n",
       "    }\n",
       "</style>\n",
       "<table border=\"1\" class=\"dataframe\">\n",
       "  <thead>\n",
       "    <tr style=\"text-align: right;\">\n",
       "      <th></th>\n",
       "      <th>Scores</th>\n",
       "      <th>LSTM</th>\n",
       "      <th>Multi-layer LSTM</th>\n",
       "      <th>1D-CNN</th>\n",
       "      <th>1D-CNN+LSTM</th>\n",
       "    </tr>\n",
       "  </thead>\n",
       "  <tbody>\n",
       "    <tr>\n",
       "      <th>0</th>\n",
       "      <td>Accuracy</td>\n",
       "      <td>90.91</td>\n",
       "      <td>92.05</td>\n",
       "      <td>91.52</td>\n",
       "      <td>92.37</td>\n",
       "    </tr>\n",
       "    <tr>\n",
       "      <th>1</th>\n",
       "      <td>F1_scores</td>\n",
       "      <td>90.81</td>\n",
       "      <td>92.15</td>\n",
       "      <td>91.59</td>\n",
       "      <td>92.44</td>\n",
       "    </tr>\n",
       "    <tr>\n",
       "      <th>2</th>\n",
       "      <td>Precision</td>\n",
       "      <td>91.19</td>\n",
       "      <td>92.17</td>\n",
       "      <td>91.66</td>\n",
       "      <td>92.44</td>\n",
       "    </tr>\n",
       "    <tr>\n",
       "      <th>3</th>\n",
       "      <td>Recall</td>\n",
       "      <td>90.47</td>\n",
       "      <td>92.14</td>\n",
       "      <td>91.52</td>\n",
       "      <td>92.44</td>\n",
       "    </tr>\n",
       "  </tbody>\n",
       "</table>\n",
       "</div>"
      ],
      "text/plain": [
       "      Scores   LSTM  Multi-layer LSTM  1D-CNN  1D-CNN+LSTM\n",
       "0   Accuracy  90.91             92.05   91.52        92.37\n",
       "1  F1_scores  90.81             92.15   91.59        92.44\n",
       "2  Precision  91.19             92.17   91.66        92.44\n",
       "3     Recall  90.47             92.14   91.52        92.44"
      ]
     },
     "execution_count": 7,
     "metadata": {},
     "output_type": "execute_result"
    }
   ],
   "source": [
    "X = df.iloc[:, :-1].values # We take all the feature columns (we exclude the last one)\n",
    "#Y = df.iloc[:, 5].values # We take the dependent variables\n",
    "df"
   ]
  },
  {
   "cell_type": "code",
   "execution_count": 8,
   "id": "39d84740",
   "metadata": {},
   "outputs": [
    {
     "data": {
      "image/png": "[encoded data removed]",
      "text/plain": [
       "<Figure size 432x288 with 1 Axes>"
      ]
     },
     "metadata": {
      "needs_background": "light"
     },
     "output_type": "display_data"
    }
   ],
   "source": [
    "X = df['Scores']\n",
    "A = df['LSTM']\n",
    "B = df['Multi-layer LSTM']\n",
    "C = df['1D-CNN']\n",
    "D = df['1D-CNN+LSTM']\n",
    "\n",
    "#bin_vector = np.loadtext('sacc_or_fixation.txt')\n",
    "plt.plot(X[0:1000],A[0:500], c='b', label= 'LSTM')\n",
    "plt.plot(X[0:1000],B[0:500], c='g', label ='Multi-layer LSTM')\n",
    "plt.plot(X[0:1000],C[0:500], c='k', label ='1D-CNN')\n",
    "plt.plot(X[0:1000],D[0:500], c='r', label ='1D-CNN+LSTM')\n",
    "\n",
    "plt.legend(loc=\"lower right\")\n",
    "plt.title('')\n",
    "plt.xlabel('',fontsize=15)\n",
    "plt.ylabel('Scores',fontsize=15)\n",
    "plt. grid(True)\n",
    "plt.savefig('results_images/comparision of accuriesAndprecision.pdf')\n",
    "plt.show()"
   ]
  },
  {
   "cell_type": "code",
   "execution_count": null,
   "id": "685f6c3b",
   "metadata": {},
   "outputs": [],
   "source": []
  }
 ],
 "metadata": {
  "kernelspec": {
   "display_name": "Python 3 (ipykernel)",
   "language": "python",
   "name": "python3"
  },
  "language_info": {
   "codemirror_mode": {
    "name": "ipython",
    "version": 3
   },
   "file_extension": ".py",
   "mimetype": "text/x-python",
   "name": "python",
   "nbconvert_exporter": "python",
   "pygments_lexer": "ipython3",
   "version": "3.9.6"
  }
 },
 "nbformat": 4,
 "nbformat_minor": 5
}
